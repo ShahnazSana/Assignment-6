{
  "nbformat": 4,
  "nbformat_minor": 0,
  "metadata": {
    "colab": {
      "provenance": [],
      "authorship_tag": "ABX9TyPmklRjodr+pyumGIg7e+zA",
      "include_colab_link": true
    },
    "kernelspec": {
      "name": "python3",
      "display_name": "Python 3"
    },
    "language_info": {
      "name": "python"
    }
  },
  "cells": [
    {
      "cell_type": "markdown",
      "metadata": {
        "id": "view-in-github",
        "colab_type": "text"
      },
      "source": [
        "<a href=\"https://colab.research.google.com/github/ShahnazSana/Assignment-6/blob/main/Assignment_6.ipynb\" target=\"_parent\"><img src=\"https://colab.research.google.com/assets/colab-badge.svg\" alt=\"Open In Colab\"/></a>"
      ]
    },
    {
      "cell_type": "code",
      "execution_count": null,
      "metadata": {
        "id": "KjzAW0TfKuRB"
      },
      "outputs": [],
      "source": [
        "print(\"Welcome to Cancer Detection with Skill Morph!\")\n",
        "print(\"We will build a Skill Moprh Doctor to detect breast cancer!\")"
      ]
    },
    {
      "cell_type": "code",
      "source": [
        "import pandas as pd\n",
        "import numpy as np\n",
        "from sklearn.tree import DecisionTreeClassifier\n",
        "from sklearn.model_selection import train_test_split\n",
        "from sklearn.metrics import (\n",
        "    accuracy_score, confusion_matrix, classification_report,\n",
        "    precision_score, recall_score, f1_score,\n",
        "    roc_curve, roc_auc_score, auc\n",
        ")\n",
        "import matplotlib.pyplot as plt\n",
        "import seaborn as sns"
      ],
      "metadata": {
        "id": "4zgs5c6nKzTf"
      },
      "execution_count": 1,
      "outputs": []
    },
    {
      "cell_type": "code",
      "source": [
        "print(\"Reading the real cancer dataset...\")\n",
        "from google.colab import drive\n",
        "drive.mount('/content/drive')\n",
        "import warnings\n",
        "warnings.filterwarnings('ignore')\n",
        "data = pd.read_csv(Breast_Cancer_Wisconsin_Dataset.csv')\n",
        "\n",
        "print(f\"Dataset loaded! We have data from {len(data)} real patients\")\n",
        "print(f\"Each patient has {len(data.columns)-2} medical measurements\")\n",
        "\n",
        "# Show first few patients\n",
        "print(\"\\nFirst 5 patients in our dataset:\")\n",
        "print(data[['id', 'diagnosis', 'radius_mean', 'texture_mean', 'area_mean']].head())\n",
        "\n",
        "# Understand diagnosis column\n",
        "print(f\"\\nUnderstanding Diagnosis:\")\n",
        "diagnosis_counts = data['diagnosis'].value_counts()\n",
        "print(f\"M (Malignant = Dangerous Cancer):  {diagnosis_counts['M']} patients\")\n",
        "print(f\"B (Benign = Harmless Cancer):      {diagnosis_counts['B']} patients\")\n",
        "print(f\"Total patients:                    {len(data)} patients\")"
      ],
      "metadata": {
        "colab": {
          "base_uri": "https://localhost:8080/"
        },
        "id": "wqJ7P7R2LBpe",
        "outputId": "cbf18419-538b-42a1-da5b-0b5990424add"
      },
      "execution_count": 9,
      "outputs": [
        {
          "output_type": "stream",
          "name": "stdout",
          "text": [
            "Reading the real cancer dataset...\n",
            "Drive already mounted at /content/drive; to attempt to forcibly remount, call drive.mount(\"/content/drive\", force_remount=True).\n",
            "Dataset loaded! We have data from 569 real patients\n",
            "Each patient has 31 medical measurements\n",
            "\n",
            "First 5 patients in our dataset:\n",
            "         id diagnosis  radius_mean  texture_mean  area_mean\n",
            "0    842302         M        17.99         10.38     1001.0\n",
            "1    842517         M        20.57         17.77     1326.0\n",
            "2  84300903         M        19.69         21.25     1203.0\n",
            "3  84348301         M        11.42         20.38      386.1\n",
            "4  84358402         M        20.29         14.34     1297.0\n",
            "\n",
            "Understanding Diagnosis:\n",
            "M (Malignant = Dangerous Cancer):  212 patients\n",
            "B (Benign = Harmless Cancer):      357 patients\n",
            "Total patients:                    569 patients\n"
          ]
        }
      ]
    },
    {
      "cell_type": "code",
      "source": [
        "print(\"Computers only understand numbers, not letters!\")\n",
        "print(\"Converting M → 1 (Malignant Cancer) and B → 0 (Benign Cancer)\")\n",
        "data['diagnosis_numeric'] = data['diagnosis'].map({'M': 1, 'B': 0})\n",
        "print(\"Conversion completed!\")\n",
        "important_features = [\n",
        "    'radius_mean',\n",
        "    'texture_mean',\n",
        "    'area_mean',\n",
        "    'smoothness_mean',\n",
        "    'compactness_mean',\n",
        "]\n",
        "X = data[important_features]\n",
        "y = data['diagnosis_numeric']\n",
        "print(f\"\\nData prepared:\")\n",
        "print(f\"X (measurements): {X.shape}\")\n",
        "print(f\"y (diagnosis): {y.shape}\")\n",
        "\n"
      ],
      "metadata": {
        "colab": {
          "base_uri": "https://localhost:8080/"
        },
        "id": "eRjwVpSyWTp5",
        "outputId": "5e538508-9457-4515-8d63-937b6732c9ac"
      },
      "execution_count": 11,
      "outputs": [
        {
          "output_type": "stream",
          "name": "stdout",
          "text": [
            "Computers only understand numbers, not letters!\n",
            "Converting M → 1 (Malignant Cancer) and B → 0 (Benign Cancer)\n",
            "Conversion completed!\n",
            "\n",
            "Data prepared:\n",
            "X (measurements): (569, 5)\n",
            "y (diagnosis): (569,)\n"
          ]
        }
      ]
    },
    {
      "cell_type": "markdown",
      "source": [
        "**Question no 1 ans**"
      ],
      "metadata": {
        "id": "hGS6SCOhXMJy"
      }
    },
    {
      "cell_type": "code",
      "source": [
        "X_train, X_test, y_train, y_test = train_test_split(\n",
        "    X, y, test_size=0.2, random_state=20\n",
        ")\n",
        "\n",
        "print(f\"Training: {len(X_train)} patients (computer will learn from these)\")\n",
        "print(f\"Testing:  {len(X_test)} patients (computer will be tested on these)\")\n",
        "\n",
        "# Show some training examples\n",
        "print(f\"\\n Training Examples (Computer learns from these):\")\n",
        "print(X_train.head())"
      ],
      "metadata": {
        "colab": {
          "base_uri": "https://localhost:8080/"
        },
        "id": "MfE-mH8VWxOr",
        "outputId": "d16ba17e-b0d1-4eb4-c9c9-7fce113f5189"
      },
      "execution_count": 12,
      "outputs": [
        {
          "output_type": "stream",
          "name": "stdout",
          "text": [
            "Training: 455 patients (computer will learn from these)\n",
            "Testing:  114 patients (computer will be tested on these)\n",
            "\n",
            " Training Examples (Computer learns from these):\n",
            "     radius_mean  texture_mean  area_mean  smoothness_mean  compactness_mean\n",
            "412        9.397         21.68      268.8          0.07969           0.06053\n",
            "461       27.420         26.27     2501.0          0.10840           0.19880\n",
            "532       13.680         16.33      575.5          0.09277           0.07255\n",
            "495       14.870         20.21      680.9          0.09587           0.08345\n",
            "13        15.850         23.95      782.7          0.08401           0.10020\n"
          ]
        }
      ]
    },
    {
      "cell_type": "code",
      "source": [
        "depths_task1 = [3, 4, 5]\n",
        "best_depth_task1 = None\n",
        "best_acc_task1 = 0\n",
        "\n",
        "print(\">>> Task 1: Testing depths [3, 4, 5] on original features\")\n",
        "\n",
        "for depth in depths_task1:\n",
        "    model = DecisionTreeClassifier(max_depth=depth, random_state=20)\n",
        "    model.fit(X_train, y_train)\n",
        "    preds = model.predict(X_test)\n",
        "    acc = accuracy_score(y_test, preds)\n",
        "    print(f\"Depth {depth}: Accuracy = {acc:.3f} ({acc*100:.1f}%)\")\n",
        "    if acc > best_acc_task1:\n",
        "        best_acc_task1 = acc\n",
        "        best_depth_task1 = depth\n",
        "\n",
        "print(f\"\\n✅ Best depth for Task 1: {best_depth_task1} with Accuracy = {best_acc_task1:.3f}\\n\")\n",
        "\n",
        "# ----------------- Task 2: Optional - 10 Features -----------------\n",
        "# Select first 10 features (assuming X has at least 10 columns)\n",
        "X_train_10 = X_train.iloc[:, :10]\n",
        "X_test_10 = X_test.iloc[:, :10]\n",
        "\n",
        "depths_task2 = [5, 6, 7, 8, 9]\n",
        "best_depth_task2 = None\n",
        "best_acc_task2 = 0\n",
        "\n",
        "print(\">>> Task 2 (Optional): Testing depths [5,6,7,8,9] on first 10 features\")\n",
        "\n",
        "for depth in depths_task2:\n",
        "    model = DecisionTreeClassifier(max_depth=depth, random_state=20)\n",
        "    model.fit(X_train_10, y_train)\n",
        "    preds = model.predict(X_test_10)\n",
        "    acc = accuracy_score(y_test, preds)\n",
        "    print(f\"Depth {depth}: Accuracy = {acc:.3f} ({acc*100:.1f}%)\")\n",
        "    if acc > best_acc_task2:\n",
        "        best_acc_task2 = acc\n",
        "        best_depth_task2 = depth\n",
        "\n",
        "print(f\"\\n✅ Best depth for Task 2: {best_depth_task2} with Accuracy = {best_acc_task2:.3f}\\n\")\n"
      ],
      "metadata": {
        "colab": {
          "base_uri": "https://localhost:8080/"
        },
        "id": "NY_GbQBzYnCY",
        "outputId": "52338642-91cb-476f-b775-aa66b246398c"
      },
      "execution_count": 13,
      "outputs": [
        {
          "output_type": "stream",
          "name": "stdout",
          "text": [
            ">>> Task 1: Testing depths [3, 4, 5] on original features\n",
            "Depth 3: Accuracy = 0.886 (88.6%)\n",
            "Depth 4: Accuracy = 0.904 (90.4%)\n",
            "Depth 5: Accuracy = 0.895 (89.5%)\n",
            "\n",
            "✅ Best depth for Task 1: 4 with Accuracy = 0.904\n",
            "\n",
            ">>> Task 2 (Optional): Testing depths [5,6,7,8,9] on first 10 features\n",
            "Depth 5: Accuracy = 0.895 (89.5%)\n",
            "Depth 6: Accuracy = 0.912 (91.2%)\n",
            "Depth 7: Accuracy = 0.904 (90.4%)\n",
            "Depth 8: Accuracy = 0.904 (90.4%)\n",
            "Depth 9: Accuracy = 0.904 (90.4%)\n",
            "\n",
            "✅ Best depth for Task 2: 6 with Accuracy = 0.912\n",
            "\n"
          ]
        }
      ]
    },
    {
      "cell_type": "markdown",
      "source": [
        "**Question No 2 Ans**"
      ],
      "metadata": {
        "id": "6FnrWe1BY_wG"
      }
    },
    {
      "cell_type": "code",
      "source": [
        "skillmorph_doctor = DecisionTreeClassifier(max_depth=best_depth_task1, random_state=20)\n",
        "skillmorph_doctor.fit(X_train, y_train)\n",
        "\n",
        "predictions = skillmorph_doctor.predict(X_test)\n",
        "prediction_probabilities = skillmorph_doctor.predict_proba(X_test)[:, 1]\n",
        "\n",
        "accuracy = accuracy_score(y_test, predictions)\n",
        "precision = precision_score(y_test, predictions)\n",
        "recall = recall_score(y_test, predictions)\n",
        "f1 = f1_score(y_test, predictions)\n",
        "\n",
        "print(\"\\n>>> Question 2: Performance Metrics\")\n",
        "print(f\"Accuracy  : {accuracy:.3f} ({accuracy*100:.1f}%)\")\n",
        "print(f\"Precision : {precision:.3f} ({precision*100:.1f}%)\")\n",
        "print(f\"Recall    : {recall:.3f} ({recall*100:.1f}%)\")\n",
        "print(f\"F1-Score  : {f1:.3f} ({f1*100:.1f}%)\")\n",
        "\n",
        "plt.figure(figsize=(8,4))\n",
        "metrics = ['Accuracy', 'Precision', 'Recall', 'F1-Score']\n",
        "values = [accuracy, precision, recall, f1]\n",
        "colors = ['blue', 'green', 'orange', 'red']\n",
        "plt.bar(metrics, values, color=colors, alpha=0.7)\n",
        "plt.ylim(0,1)\n",
        "plt.title('Skill Morph Doctor - Metrics (Question 2)', fontweight='bold')\n",
        "plt.ylabel('Score (0-1)')\n",
        "plt.show()"
      ],
      "metadata": {
        "colab": {
          "base_uri": "https://localhost:8080/",
          "height": 495
        },
        "id": "ZWDmRiZFaDrh",
        "outputId": "0bb686e2-9f4a-41ae-9dc7-a29d61170f90"
      },
      "execution_count": 19,
      "outputs": [
        {
          "output_type": "stream",
          "name": "stdout",
          "text": [
            "\n",
            ">>> Question 2: Performance Metrics\n",
            "Accuracy  : 0.904 (90.4%)\n",
            "Precision : 0.911 (91.1%)\n",
            "Recall    : 0.854 (85.4%)\n",
            "F1-Score  : 0.882 (88.2%)\n"
          ]
        },
        {
          "output_type": "display_data",
          "data": {
            "text/plain": [
              "<Figure size 800x400 with 1 Axes>"
            ],
            "image/png": "[encoded data removed]"
          },
          "metadata": {}
        }
      ]
    },
    {
      "cell_type": "markdown",
      "source": [
        "**Question no 3 ans**"
      ],
      "metadata": {
        "id": "49PbUhvXa_sh"
      }
    },
    {
      "cell_type": "code",
      "source": [
        "new_patient_predictions = skillmorph_doctor.predict(X_test)\n",
        "new_patient_probabilities = skillmorph_doctor.predict_proba(X_test)[:, 1]\n",
        "\n",
        "print(\"\\n>>> Question 3: Testing on New Patients\")\n",
        "print(\"Patient | Actual      | Predicted   | Confidence | Correct?\")\n",
        "print(\"-\" * 70)\n",
        "\n",
        "for i in range(10):  # Show first 10 patients as example\n",
        "    actual = \"Malignant\" if y_test.iloc[i] == 1 else \"Benign\"\n",
        "    predicted = \"Malignant\" if new_patient_predictions[i] == 1 else \"Benign\"\n",
        "    confidence = new_patient_probabilities[i] * 100 if new_patient_predictions[i] == 1 else (1 - new_patient_probabilities[i]) * 100\n",
        "    correct = \"✅\" if y_test.iloc[i] == new_patient_predictions[i] else \"❌\"\n",
        "    print(f\"{i+1:7} | {actual:11} | {predicted:10} | {confidence:8.1f}% | {correct}\")"
      ],
      "metadata": {
        "colab": {
          "base_uri": "https://localhost:8080/"
        },
        "id": "SJIIn_RibGxJ",
        "outputId": "ad04417e-8da8-4b14-dc77-da5a57970455"
      },
      "execution_count": 20,
      "outputs": [
        {
          "output_type": "stream",
          "name": "stdout",
          "text": [
            "\n",
            ">>> Question 3: Testing on New Patients\n",
            "Patient | Actual      | Predicted   | Confidence | Correct?\n",
            "----------------------------------------------------------------------\n",
            "      1 | Benign      | Benign     |     77.8% | ✅\n",
            "      2 | Malignant   | Malignant  |    100.0% | ✅\n",
            "      3 | Malignant   | Malignant  |    100.0% | ✅\n",
            "      4 | Benign      | Benign     |     94.9% | ✅\n",
            "      5 | Malignant   | Benign     |    100.0% | ❌\n",
            "      6 | Malignant   | Malignant  |    100.0% | ✅\n",
            "      7 | Malignant   | Malignant  |    100.0% | ✅\n",
            "      8 | Benign      | Benign     |     94.9% | ✅\n",
            "      9 | Benign      | Benign     |     77.8% | ✅\n",
            "     10 | Malignant   | Malignant  |     90.0% | ✅\n"
          ]
        }
      ]
    },
    {
      "cell_type": "markdown",
      "source": [
        "**Qoestion no 4 ans**"
      ],
      "metadata": {
        "id": "zxdAni5mbapW"
      }
    },
    {
      "cell_type": "code",
      "source": [
        "cm = confusion_matrix(y_test, new_patient_predictions)\n",
        "print(\"\\n>>> Question 4: Confusion Matrix Analysis\")\n",
        "print(cm)\n",
        "\n",
        "print(\"\\nHow to read the Confusion Matrix:\")\n",
        "print(f\"\"\"\n",
        "                 Skill Morph Predicted\n",
        "              Benign   Malignant\n",
        "Real Benign     {cm[0,0]}        {cm[0,1]}   ← False Alarms (predicted malignant but was benign)\n",
        "Real Malignant  {cm[1,0]}        {cm[1,1]}   ← Missed Malignant (predicted benign but was malignant) ⚠️\n",
        "\n",
        "✅ Correct Predictions: {cm[0,0] + cm[1,1]}\n",
        "❌ Wrong Predictions: {cm[0,1] + cm[1,0]}\n",
        "\n",
        "⚠️ DANGER: Missing malignant cancer ({cm[1,0]} cases) is more dangerous than false alarms ({cm[0,1]} cases)\n",
        "\"\"\")\n",
        "\n",
        "# Visualize Confusion Matrix\n",
        "plt.figure(figsize=(10, 4))\n",
        "\n",
        "# Confusion Matrix Heatmap\n",
        "plt.subplot(1, 2, 1)\n",
        "sns.heatmap(cm, annot=True, fmt='d', cmap='Blues',\n",
        "            xticklabels=['Benign', 'Malignant'],\n",
        "            yticklabels=['Benign', 'Malignant'],\n",
        "            cbar_kws={'label': 'Number of Patients'})\n",
        "plt.title('Confusion Matrix\\n(Skill Morph Doctor Mistakes)', fontweight='bold', fontsize=12)\n",
        "plt.xlabel('Predicted', fontsize=11)\n",
        "plt.ylabel('Actual', fontsize=11)\n",
        "\n",
        "# Accuracy visualization\n",
        "plt.subplot(1, 2, 2)\n",
        "categories = ['Correct Predictions', 'Wrong Predictions']\n",
        "values = [cm[0,0] + cm[1,1], cm[0,1] + cm[1,0]]\n",
        "colors = ['green', 'red']\n",
        "plt.bar(categories, values, color=colors, alpha=0.7)\n",
        "plt.title(f'Model Performance\\nAccuracy: {accuracy*100:.1f}%', fontweight='bold', fontsize=12)\n",
        "plt.ylabel('Number of Patients', fontsize=11)\n",
        "\n",
        "plt.tight_layout()\n",
        "plt.show()"
      ],
      "metadata": {
        "colab": {
          "base_uri": "https://localhost:8080/",
          "height": 702
        },
        "id": "32chExsjbhfc",
        "outputId": "0ca5991f-a29e-437f-eea3-d08ff28ac41b"
      },
      "execution_count": 21,
      "outputs": [
        {
          "output_type": "stream",
          "name": "stdout",
          "text": [
            "\n",
            ">>> Question 4: Confusion Matrix Analysis\n",
            "[[62  4]\n",
            " [ 7 41]]\n",
            "\n",
            "How to read the Confusion Matrix:\n",
            "\n",
            "                 Skill Morph Predicted\n",
            "              Benign   Malignant\n",
            "Real Benign     62        4   ← False Alarms (predicted malignant but was benign)\n",
            "Real Malignant  7        41   ← Missed Malignant (predicted benign but was malignant) ⚠️\n",
            "\n",
            "✅ Correct Predictions: 103\n",
            "❌ Wrong Predictions: 11\n",
            "\n",
            "⚠️ DANGER: Missing malignant cancer (7 cases) is more dangerous than false alarms (4 cases)\n",
            "\n"
          ]
        },
        {
          "output_type": "display_data",
          "data": {
            "text/plain": [
              "<Figure size 1000x400 with 3 Axes>"
            ],
            "image/png": "[encoded data removed]"
          },
          "metadata": {}
        }
      ]
    }
  ]
}